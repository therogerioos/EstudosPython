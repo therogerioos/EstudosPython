{
  "nbformat": 4,
  "nbformat_minor": 0,
  "metadata": {
    "colab": {
      "provenance": [],
      "authorship_tag": "ABX9TyPbEBKaWU8sipoSvfsTTSJ1",
      "include_colab_link": true
    },
    "kernelspec": {
      "name": "python3",
      "display_name": "Python 3"
    },
    "language_info": {
      "name": "python"
    }
  },
  "cells": [
    {
      "cell_type": "markdown",
      "metadata": {
        "id": "view-in-github",
        "colab_type": "text"
      },
      "source": [
        "<a href=\"https://colab.research.google.com/github/therogerioos/EstudosPython/blob/main/Algoritmos_Python.ipynb\" target=\"_parent\"><img src=\"https://colab.research.google.com/assets/colab-badge.svg\" alt=\"Open In Colab\"/></a>"
      ]
    },
    {
      "cell_type": "code",
      "execution_count": 3,
      "metadata": {
        "colab": {
          "base_uri": "https://localhost:8080/"
        },
        "id": "io7B-1296_Gv",
        "outputId": "402e2d9e-6b11-44a3-d075-85c4796d8e3b"
      },
      "outputs": [
        {
          "output_type": "stream",
          "name": "stdout",
          "text": [
            "Digite o preço por litro do Etanol: 3.25\n",
            "Digite o preço por litro do Gasolina: 4.50\n",
            "A diferença entre Etanol x Gasolina é:  0.7222222222222222\n",
            "Abasteça com Gasolina\n"
          ]
        }
      ],
      "source": [
        "#Arquivo contendo algoritmos de treinamento em Python\n",
        "\n",
        "#Verificando quando deveremos abastecer o carro com gasolina ou etanol\n",
        "\n",
        "precoEtanol = float(input(\"Digite o preço por litro do Etanol: \"))\n",
        "precoGasolina = float(input(\"Digite o preço por litro do Gasolina: \"))\n",
        "\n",
        "diferenca = 0.00\n",
        "\n",
        "if(precoGasolina > 0):\n",
        "  diferenca = precoEtanol/precoGasolina\n",
        "  print(\"A diferença entre Etanol x Gasolina é: \", diferenca)\n",
        "  if(diferenca<0.7):\n",
        "    print(\"Abasteça com Etanol\")\n",
        "  else:\n",
        "    print(\"Abasteça com Gasolina\")\n",
        "else:\n",
        "  print(\"Informe todo os dados\")\n",
        "\n"
      ]
    }
  ]
}