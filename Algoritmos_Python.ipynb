{
  "nbformat": 4,
  "nbformat_minor": 0,
  "metadata": {
    "colab": {
      "provenance": [],
      "authorship_tag": "ABX9TyO1KJa3nX3fEkXNiwp6qGM9",
      "include_colab_link": true
    },
    "kernelspec": {
      "name": "python3",
      "display_name": "Python 3"
    },
    "language_info": {
      "name": "python"
    }
  },
  "cells": [
    {
      "cell_type": "markdown",
      "metadata": {
        "id": "view-in-github",
        "colab_type": "text"
      },
      "source": [
        "<a href=\"https://colab.research.google.com/github/therogerioos/EstudosPython/blob/main/Algoritmos_Python.ipynb\" target=\"_parent\"><img src=\"https://colab.research.google.com/assets/colab-badge.svg\" alt=\"Open In Colab\"/></a>"
      ]
    },
    {
      "cell_type": "code",
      "execution_count": 3,
      "metadata": {
        "colab": {
          "base_uri": "https://localhost:8080/"
        },
        "id": "io7B-1296_Gv",
        "outputId": "402e2d9e-6b11-44a3-d075-85c4796d8e3b"
      },
      "outputs": [
        {
          "output_type": "stream",
          "name": "stdout",
          "text": [
            "Digite o preço por litro do Etanol: 3.25\n",
            "Digite o preço por litro do Gasolina: 4.50\n",
            "A diferença entre Etanol x Gasolina é:  0.7222222222222222\n",
            "Abasteça com Gasolina\n"
          ]
        }
      ],
      "source": [
        "#Arquivo contendo algoritmos de treinamento em Python\n",
        "\n",
        "#Verificando quando deveremos abastecer o carro com gasolina ou etanol\n",
        "\n",
        "precoEtanol = float(input(\"Digite o preço por litro do Etanol: \"))\n",
        "precoGasolina = float(input(\"Digite o preço por litro do Gasolina: \"))\n",
        "\n",
        "diferenca = 0.00\n",
        "\n",
        "if(precoGasolina > 0):\n",
        "  diferenca = precoEtanol/precoGasolina\n",
        "  print(\"A diferença entre Etanol x Gasolina é: \", diferenca)\n",
        "  if(diferenca<0.7):\n",
        "    print(\"Abasteça com Etanol\")\n",
        "  else:\n",
        "    print(\"Abasteça com Gasolina\")\n",
        "else:\n",
        "  print(\"Informe todo os dados\")\n",
        "\n"
      ]
    },
    {
      "cell_type": "code",
      "source": [
        "#Algoritmo que recebe dois números inteiros\n",
        "#Calcula a diferença do primero número (A) em relação ao segundo número (B)\n",
        "#Identifica o sucessor e antecessor da diferença\n",
        "\n",
        "A = int(input(\"Digite o primeiro número inteiro: \"))\n",
        "B = int(input(\"Digite o segundo número inteiro: \"))\n",
        "\n",
        "diferenca = A - B\n",
        "\n",
        "sucessor = diferenca + 1\n",
        "antecessor = diferenca - 1\n",
        "\n",
        "print(f\"A diferença entre {A} e {B} é igual a {diferenca}\")\n",
        "print(f\"O sucessor de {diferenca} é {sucessor}\")\n",
        "print(f\"E o antecessor de {diferenca} é {antecessor}\")\n"
      ],
      "metadata": {
        "colab": {
          "base_uri": "https://localhost:8080/"
        },
        "id": "E-FLahp6CF2A",
        "outputId": "3d9f0502-37ec-49ef-e712-e50408cccc28"
      },
      "execution_count": 7,
      "outputs": [
        {
          "output_type": "stream",
          "name": "stdout",
          "text": [
            "Digite o primeiro número inteiro: 10\n",
            "Digite o segundo número inteiro: 5\n",
            "A diferença entre 10 e 5 é igual a 5\n",
            "O sucessor de 5 é 6\n",
            "E o antecessor de 5 é 4\n"
          ]
        }
      ]
    }
  ]
}