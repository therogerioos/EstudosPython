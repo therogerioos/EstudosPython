{
  "nbformat": 4,
  "nbformat_minor": 0,
  "metadata": {
    "colab": {
      "provenance": [],
      "authorship_tag": "ABX9TyM4qxk27L+uzuK2R7HTPh6e",
      "include_colab_link": true
    },
    "kernelspec": {
      "name": "python3",
      "display_name": "Python 3"
    },
    "language_info": {
      "name": "python"
    }
  },
  "cells": [
    {
      "cell_type": "markdown",
      "metadata": {
        "id": "view-in-github",
        "colab_type": "text"
      },
      "source": [
        "<a href=\"https://colab.research.google.com/github/therogerioos/EstudosPython/blob/main/Aulas_do_curso_de_Python.ipynb\" target=\"_parent\"><img src=\"https://colab.research.google.com/assets/colab-badge.svg\" alt=\"Open In Colab\"/></a>"
      ]
    },
    {
      "cell_type": "code",
      "execution_count": 4,
      "metadata": {
        "colab": {
          "base_uri": "https://localhost:8080/"
        },
        "id": "vcpMS8hW5pez",
        "outputId": "fd1fa5e8-e337-4448-a49b-b4003862ea80"
      },
      "outputs": [
        {
          "output_type": "stream",
          "name": "stdout",
          "text": [
            "Olá, mundo!\n"
          ]
        }
      ],
      "source": [
        "#Esse é o inicio de tudo na programação\n",
        "#print é uma palavra reservada do Python\n",
        "print(\"Olá, mundo!\")"
      ]
    },
    {
      "cell_type": "code",
      "source": [
        "#Adicionando informações numa variável\n",
        "mensagem = \"Esse texto foi armazenado em uma variável\"\n",
        "print(mensagem)"
      ],
      "metadata": {
        "colab": {
          "base_uri": "https://localhost:8080/"
        },
        "id": "cB2cCVmg6KJn",
        "outputId": "6c1b94f5-1c85-498e-e7a1-77fa2e73f16d"
      },
      "execution_count": 5,
      "outputs": [
        {
          "output_type": "stream",
          "name": "stdout",
          "text": [
            "Esse texto foi armazenado em uma variável\n"
          ]
        }
      ]
    },
    {
      "cell_type": "code",
      "source": [
        "#Para inserir uma informação pelo terminal, utilizar a palavra reservada input\n",
        "mensagem = input(\"Digite um número: \")\n",
        "print(\"Você digitou: \"+mensagem)"
      ],
      "metadata": {
        "colab": {
          "base_uri": "https://localhost:8080/"
        },
        "id": "A_b_t8627LKB",
        "outputId": "00135941-2555-4a12-9503-32be96b59940"
      },
      "execution_count": 7,
      "outputs": [
        {
          "output_type": "stream",
          "name": "stdout",
          "text": [
            "Digite um número: Olá, mundo\n",
            "Você digitou: Olá, mundo\n"
          ]
        }
      ]
    },
    {
      "cell_type": "code",
      "source": [
        "#Para alterar o formato das letras pra minusculo, utilizar o lower()\n",
        "mensagem = \"OLA, MUNDO\"\n",
        "print(mensagem.lower())"
      ],
      "metadata": {
        "colab": {
          "base_uri": "https://localhost:8080/"
        },
        "id": "bWw13gUP8Pfe",
        "outputId": "3ff18644-e187-4a61-ff1c-33d2c89a04ca"
      },
      "execution_count": 8,
      "outputs": [
        {
          "output_type": "stream",
          "name": "stdout",
          "text": [
            "ola, mundo\n"
          ]
        }
      ]
    },
    {
      "cell_type": "code",
      "source": [
        "#Para alterar a primeira letra da palavra para maiusculo, utilizar title()\n",
        "mensagem = \"ola, mundo!\"\n",
        "print(mensagem.title())"
      ],
      "metadata": {
        "colab": {
          "base_uri": "https://localhost:8080/"
        },
        "id": "nKwJBDVh8i4b",
        "outputId": "9159ae6f-aa25-4c6c-fdca-b65b4b8530bd"
      },
      "execution_count": 9,
      "outputs": [
        {
          "output_type": "stream",
          "name": "stdout",
          "text": [
            "Ola, Mundo!\n"
          ]
        }
      ]
    },
    {
      "cell_type": "code",
      "source": [
        "#Para alterar as letras para maiusculo, utilizar o upper()\n",
        "mensagem = \"ola, mundo!\"\n",
        "print(mensagem.upper())"
      ],
      "metadata": {
        "colab": {
          "base_uri": "https://localhost:8080/"
        },
        "id": "628o9lZo83jU",
        "outputId": "4bce69db-26ec-4b7f-bc7d-bec1d1587a37"
      },
      "execution_count": 10,
      "outputs": [
        {
          "output_type": "stream",
          "name": "stdout",
          "text": [
            "OLA, MUNDO!\n"
          ]
        }
      ]
    },
    {
      "cell_type": "code",
      "source": [
        "#Para concatenação, utilizar o sinal \"+\"\n",
        "nome = input(\"Digite seu nome: \")\n",
        "telefone = input(\"Digite seu número de telefone: \")\n",
        "email = input(\"Digite seu email: \")\n",
        "print(\"Nome: \"+nome+\" \\nTelefone: \"+telefone+\" \\nEmail: \"+email)"
      ],
      "metadata": {
        "colab": {
          "base_uri": "https://localhost:8080/"
        },
        "id": "E-6e7KEh9A0s",
        "outputId": "35e39b41-ba8c-4e00-b837-6d11f0bfb3b1"
      },
      "execution_count": 164,
      "outputs": [
        {
          "output_type": "stream",
          "name": "stdout",
          "text": [
            "Digite seu nome: Rogerio\n",
            "Digite seu número de telefone: 7599999999\n",
            "Digite seu email: ros@gmail.com\n",
            "Nome: Rogerio \n",
            "Telefone: 7599999999 \n",
            "Email: ros@gmail.com\n"
          ]
        }
      ]
    },
    {
      "cell_type": "code",
      "source": [
        "nome = input(\"Digite seu nome: \")\n",
        "telefone = input(\"Digite seu número de telefone: \")\n",
        "email = input(\"Digite seu email: \")\n",
        "textoDigitado = \"Nome: %s\\nTelefone: %s\\nEmail: %s\" %(nome,telefone,email)\n",
        "print(textoDigitado)"
      ],
      "metadata": {
        "colab": {
          "base_uri": "https://localhost:8080/"
        },
        "id": "42UDy4k2-f5R",
        "outputId": "b0cc1577-c655-471c-c3e8-ab2d66cb4700"
      },
      "execution_count": 163,
      "outputs": [
        {
          "output_type": "stream",
          "name": "stdout",
          "text": [
            "Digite seu nome: Rogerio\n",
            "Digite seu número de telefone: 75999999999\n",
            "Digite seu email: roas@gmail.com\n",
            "Nome: Rogerio\n",
            "Telefone: 75999999999\n",
            "Email: roas@gmail.com\n"
          ]
        }
      ]
    },
    {
      "cell_type": "code",
      "source": [
        "nome = input(\"Digite seu nome: \")\n",
        "telefone = input(\"Digite seu número de telefone: \")\n",
        "email = input(\"Digite seu email: \")\n",
        "print(f\"Nome: {nome}\\nTelefone: {telefone}\\nEmail: {email}\")"
      ],
      "metadata": {
        "colab": {
          "base_uri": "https://localhost:8080/"
        },
        "id": "IDWsyvUY_yhW",
        "outputId": "0042b5fe-7acf-43b9-8964-59d96d1a1999"
      },
      "execution_count": 162,
      "outputs": [
        {
          "output_type": "stream",
          "name": "stdout",
          "text": [
            "Digite seu nome: Rogerio\n",
            "Digite seu número de telefone: 75999999999\n",
            "Digite seu email: ros@gmail.com\n",
            "Nome: Rogerio\n",
            "Telefone: 75999999999\n",
            "Email: ros@gmail.com\n"
          ]
        }
      ]
    },
    {
      "cell_type": "code",
      "source": [
        "help('keywords')"
      ],
      "metadata": {
        "colab": {
          "base_uri": "https://localhost:8080/"
        },
        "id": "nxcG3SnFApqy",
        "outputId": "98600c1f-dea6-423d-a4bf-f78a489555d4"
      },
      "execution_count": 19,
      "outputs": [
        {
          "output_type": "stream",
          "name": "stdout",
          "text": [
            "\n",
            "Here is a list of the Python keywords.  Enter any keyword to get more help.\n",
            "\n",
            "False               class               from                or\n",
            "None                continue            global              pass\n",
            "True                def                 if                  raise\n",
            "and                 del                 import              return\n",
            "as                  elif                in                  try\n",
            "assert              else                is                  while\n",
            "async               except              lambda              with\n",
            "await               finally             nonlocal            yield\n",
            "break               for                 not                 \n",
            "\n"
          ]
        }
      ]
    },
    {
      "cell_type": "code",
      "source": [
        "help(\"print\")"
      ],
      "metadata": {
        "colab": {
          "base_uri": "https://localhost:8080/"
        },
        "id": "cxc5hFa6A6ms",
        "outputId": "76c9e043-ae01-431a-de1a-755e2f1fd22f"
      },
      "execution_count": 20,
      "outputs": [
        {
          "output_type": "stream",
          "name": "stdout",
          "text": [
            "Help on built-in function print in module builtins:\n",
            "\n",
            "print(...)\n",
            "    print(value, ..., sep=' ', end='\\n', file=sys.stdout, flush=False)\n",
            "    \n",
            "    Prints the values to a stream, or to sys.stdout by default.\n",
            "    Optional keyword arguments:\n",
            "    file:  a file-like object (stream); defaults to the current sys.stdout.\n",
            "    sep:   string inserted between values, default a space.\n",
            "    end:   string appended after the last value, default a newline.\n",
            "    flush: whether to forcibly flush the stream.\n",
            "\n"
          ]
        }
      ]
    },
    {
      "cell_type": "code",
      "source": [
        "numeroString = \"50\"\n",
        "numeroInteiro = 10\n",
        "numeroDecimal = 10.5\n",
        "\n",
        "somaVariavel = numeroInteiro + numeroDecimal\n",
        "\n",
        "convFloatinInt = int(somaVariavel)\n",
        "convStringinInt = int(numeroString)\n",
        "\n",
        "print(numeroString)\n",
        "print(type(numeroString))\n",
        "\n",
        "print(numeroInteiro)\n",
        "print(type(numeroInteiro))\n",
        "\n",
        "print(numeroDecimal)\n",
        "print(type(numeroDecimal))\n",
        "\n",
        "print(somaVariavel)\n",
        "print(type(somaVariavel))\n",
        "\n",
        "print(convFloatinInt)\n",
        "print(type(convFloatinInt))\n",
        "\n",
        "print(convStringinInt)\n",
        "print(type(convStringinInt))"
      ],
      "metadata": {
        "colab": {
          "base_uri": "https://localhost:8080/"
        },
        "id": "JIaKVZ2PCYB8",
        "outputId": "a1143fe8-f314-40ac-c30e-24aa859d0dfb"
      },
      "execution_count": 27,
      "outputs": [
        {
          "output_type": "stream",
          "name": "stdout",
          "text": [
            "50\n",
            "<class 'str'>\n",
            "10\n",
            "<class 'int'>\n",
            "10.5\n",
            "<class 'float'>\n",
            "20.5\n",
            "<class 'float'>\n",
            "20\n",
            "<class 'int'>\n",
            "50\n",
            "<class 'int'>\n"
          ]
        }
      ]
    },
    {
      "cell_type": "code",
      "source": [
        "#Operações Aritméticas\n",
        "A = 10\n",
        "B = 20\n",
        "\n",
        "#Adição\n",
        "C = A + B\n",
        "print(f\"A soma de {A} + {B} = {C}\")\n",
        "\n",
        "#Subtração\n",
        "D = A - B\n",
        "print(f\"A subtração de {A} - {B} = {D}\")\n",
        "\n",
        "#Multiplicação\n",
        "E = A * B\n",
        "print(f\"A multiplicação de {A} X {B} = {E}\")\n",
        "\n",
        "#Divisão\n",
        "F = A / B\n",
        "print(f\"A divisão de {A} / {B} = {F}\")\n",
        "\n",
        "#Exponenciação\n",
        "G = A ** B\n",
        "print(f\"A exponenciação de {A} ** {B} = {G}\")"
      ],
      "metadata": {
        "colab": {
          "base_uri": "https://localhost:8080/"
        },
        "id": "ZxM-KD7OEICP",
        "outputId": "4b690613-dbb2-46a0-b683-382ff8e947d1"
      },
      "execution_count": 29,
      "outputs": [
        {
          "output_type": "stream",
          "name": "stdout",
          "text": [
            "A soma de 10 + 20 = 30\n",
            "A subtração de 10 - 20 = -10\n",
            "A multiplicação de 10 X 20 = 200\n",
            "A divisão de 10 / 20 = 0.5\n",
            "A exponenciação de 10 ** 20 = 100000000000000000000\n"
          ]
        }
      ]
    },
    {
      "cell_type": "code",
      "source": [
        "# {:7.4f} = 7 é quantidade de caracteres; .4 é a quantidade de caracteres após a vírgula\n",
        "A = 10.37\n",
        "B = 7.75\n",
        "C = A * B\n",
        "print(C)\n",
        "resultado = \"Resultado: {:7.4f}\".format(C)\n",
        "print(resultado)\n",
        "print(\"Resultado: {:5.2f}\".format(C))"
      ],
      "metadata": {
        "colab": {
          "base_uri": "https://localhost:8080/"
        },
        "id": "3CNEK3qmE5Aj",
        "outputId": "5124c76a-4883-42c1-db61-84f15753ad1b"
      },
      "execution_count": 36,
      "outputs": [
        {
          "output_type": "stream",
          "name": "stdout",
          "text": [
            "80.36749999999999\n",
            "Resultado: 80.3675\n",
            "Resultado: 80.37\n"
          ]
        }
      ]
    },
    {
      "cell_type": "code",
      "source": [
        "#Número complexos\n",
        "A = 2 + 4j\n",
        "B = 5 + 10j\n",
        "\n",
        "C = A + B\n",
        "print(C)"
      ],
      "metadata": {
        "colab": {
          "base_uri": "https://localhost:8080/"
        },
        "id": "vPqVBuBvHPKp",
        "outputId": "6c0cb1d0-2d45-4be8-f546-6d95fb222fef"
      },
      "execution_count": 40,
      "outputs": [
        {
          "output_type": "stream",
          "name": "stdout",
          "text": [
            "(7+14j)\n"
          ]
        }
      ]
    },
    {
      "cell_type": "code",
      "source": [
        "#Convertendo o tipo da variável\n",
        "a = -10.85\n",
        "b = 2\n",
        "c = 4\n",
        "\n",
        "convtInt = int(a)\n",
        "convtComplex = complex(convtInt,b)\n",
        "convtPotencia = pow(convtInt,b)\n",
        "convtAbsoluto = int(abs(a))\n",
        "\n",
        "print(f\"Convertido {a}, que tinha o tipo {type(a)} \\nEm {convtInt} que tem o tipo {type(convtInt)}\\n\")\n",
        "print(f\"O número complexo entre {convtInt} e {b} \\nResulta em {convtComplex}\\n\")\n",
        "print(f\"A potenciação entre {convtInt} e {b} será {convtPotencia}\\n\")\n",
        "print(f\"O número absoluto inteiro de {a} será {convtAbsoluto}\")"
      ],
      "metadata": {
        "colab": {
          "base_uri": "https://localhost:8080/"
        },
        "id": "Sgk_Rdg2IWrQ",
        "outputId": "c5049608-6c82-417c-fda6-7c58b59201b8"
      },
      "execution_count": 59,
      "outputs": [
        {
          "output_type": "stream",
          "name": "stdout",
          "text": [
            "Convertido -10.85, que tinha o tipo <class 'float'> \n",
            "Em -10 que tem o tipo <class 'int'>\n",
            "\n",
            "O número complexo entre -10 e 2 \n",
            "Resulta em (-10+2j)\n",
            "\n",
            "A potenciação entre -10 e 2 será 100\n",
            "\n",
            "O número absoluto inteiro de -10.85 será 10\n"
          ]
        }
      ]
    },
    {
      "cell_type": "code",
      "source": [
        "#Convertendo números inteiros em hexadecimal\n",
        "\n",
        "a = 255\n",
        "\n",
        "print(hex(a))\n",
        "print(oct(a))"
      ],
      "metadata": {
        "colab": {
          "base_uri": "https://localhost:8080/"
        },
        "id": "CcAazF2ELHeZ",
        "outputId": "a97de313-ae19-4440-804c-14a4fab9db82"
      },
      "execution_count": 71,
      "outputs": [
        {
          "output_type": "stream",
          "name": "stdout",
          "text": [
            "0xff\n",
            "0o377\n"
          ]
        }
      ]
    },
    {
      "cell_type": "code",
      "source": [
        "#Arredondamento de número\n",
        "\n",
        "a = 12.56789\n",
        "\n",
        "print(round(a , 0))\n",
        "print(round(a , 2))"
      ],
      "metadata": {
        "colab": {
          "base_uri": "https://localhost:8080/"
        },
        "id": "R5M3pKZkTX-w",
        "outputId": "b9bc24d0-179f-467b-8ab6-95003a906e37"
      },
      "execution_count": 73,
      "outputs": [
        {
          "output_type": "stream",
          "name": "stdout",
          "text": [
            "13.0\n",
            "12.57\n"
          ]
        }
      ]
    },
    {
      "cell_type": "markdown",
      "source": [
        "**Operadores Comparativos**\n",
        "\n",
        "**>** **Maior que**: Devolve um resultado lógico que pode ser true para x > y\n",
        "\n",
        "**<** **Menor que**: Devolve um resultado lógico que pode ser true para x < y\n",
        "\n",
        "**==** **Exatamente igual**: Devolve false se x==y\n",
        "\n",
        "**!=** **Diferente**: Devolve true se x != y\n",
        "\n",
        "**>=** **Maior ou igual**: Devolve true se x >= y\n",
        "\n",
        "**<=** **Menor ou igual**: Devolve true se x <= y"
      ],
      "metadata": {
        "id": "P6dGTs0mUBtQ"
      }
    },
    {
      "cell_type": "code",
      "source": [
        "x = 10\n",
        "y = 20\n",
        "\n",
        "print(x > y)\n",
        "print(x < y)\n",
        "print(x == y)\n",
        "print(x != y)\n",
        "print(x >= y)\n",
        "print(x <= y)"
      ],
      "metadata": {
        "colab": {
          "base_uri": "https://localhost:8080/"
        },
        "id": "RwtNVIZoUGuS",
        "outputId": "c2decfa9-449d-4805-f713-fc4ce3278077"
      },
      "execution_count": 76,
      "outputs": [
        {
          "output_type": "stream",
          "name": "stdout",
          "text": [
            "False\n",
            "True\n",
            "False\n",
            "True\n",
            "False\n",
            "True\n"
          ]
        }
      ]
    },
    {
      "cell_type": "code",
      "source": [
        "#Operadores Lógicos\n",
        "\n",
        "a = 10\n",
        "b = 10\n",
        "\n",
        "print((a and b) > 20)\n",
        "print((a or b) > 20)\n",
        "\n",
        "print((a and b) >= 20)\n",
        "print((a or b) >= 20)\n",
        "\n",
        "print((a and b) < 20)\n",
        "print((a or b) < 20)\n",
        "\n",
        "print((a and b) <= 20)\n",
        "print((a or b) <= 20)\n",
        "\n",
        "print((a and b) == 20)\n",
        "print((a or b) == 20)\n",
        "\n",
        "print((a and b) != 20)\n",
        "print((a or b) != 20)"
      ],
      "metadata": {
        "colab": {
          "base_uri": "https://localhost:8080/"
        },
        "id": "zDwtoB14WJqy",
        "outputId": "84b3552c-83f2-49dd-e562-88478b44f131"
      },
      "execution_count": 84,
      "outputs": [
        {
          "output_type": "stream",
          "name": "stdout",
          "text": [
            "False\n",
            "False\n",
            "False\n",
            "False\n",
            "True\n",
            "True\n",
            "True\n",
            "True\n",
            "False\n",
            "False\n",
            "True\n",
            "True\n"
          ]
        }
      ]
    },
    {
      "cell_type": "code",
      "source": [
        "# Tomada de Decisão\n",
        "\n",
        "saldo = 100\n",
        "\n",
        "if saldo >= 0: print(\"Seu saldo atual é R$ %d\"%(saldo))\n",
        "else: print(\"Seu saldo atual é (negativo) R$ %d\"%(saldo))\n",
        "\n",
        "valorSaque = 80\n",
        "\n",
        "if saldo-valorSaque>=0: print(\"Saque efetuado - R$ %d\"%(valorSaque))\n",
        "else: print(\"Saldo insuficiente\")\n",
        "\n",
        "saldo = saldo - valorSaque\n",
        "\n",
        "if saldo >= 0: print(\"Seu saldo atual é R$ %d\"%(saldo))\n",
        "else: print(\"Seu saldo atual é (negativo) R$ %d\"%(saldo))\n",
        "\n",
        "valorSaque = 10\n",
        "if saldo-valorSaque>=0: print(\"Saque efetuado - R$ %d\"%(valorSaque))\n",
        "else: print(\"Saldo insuficiente\")\n",
        "\n",
        "saldo = saldo - valorSaque\n",
        "\n",
        "if saldo >= 0: print(\"Seu saldo atual é R$ %d\"%(saldo))\n",
        "else: print(\"Seu saldo atual é (negativo) R$ %d\"%(saldo))\n",
        "\n",
        "valorSaque = 25\n",
        "if saldo-valorSaque>=0: print(\"Saque efetuado - R$ %d\"%(valorSaque))\n",
        "else: print(\"Saldo insuficiente\")\n",
        "\n",
        "saldo = saldo - valorSaque\n",
        "\n",
        "if saldo >= 0: print(\"Seu saldo atual é R$ %d\"%(saldo))\n",
        "else: print(\"Seu saldo atual é (negativo) R$ %d\"%(saldo))\n"
      ],
      "metadata": {
        "colab": {
          "base_uri": "https://localhost:8080/"
        },
        "id": "Sv3o1e9BY0WA",
        "outputId": "50af309a-3a14-4a78-d13e-cf96464a2c77"
      },
      "execution_count": 97,
      "outputs": [
        {
          "output_type": "stream",
          "name": "stdout",
          "text": [
            "Seu saldo atual é R$ 100\n",
            "Saque efetuado - R$ 80\n",
            "Seu saldo atual é R$ 20\n",
            "Saque efetuado - R$ 10\n",
            "Seu saldo atual é R$ 10\n",
            "Saldo insuficiente\n",
            "Seu saldo atual é (negativo) R$ -15\n"
          ]
        }
      ]
    },
    {
      "cell_type": "code",
      "source": [
        "#Melhorando o código anterior...\n",
        "\n",
        "QualValor = \"Digite o valor a ser sacado: \"\n",
        "SaqueEfetuado = \"(-) Saque efetuado com sucesso: R$ %.2f\"\n",
        "SaldoAtual = \"(=) Saldo Atual: R$ %.2f\"\n",
        "SaldoLimite = \"(+) Saldo Cheque Especial: R$ %.2f\" \n",
        "SaldoConta = \"(+) Saldo da Conta: R$ %.2f\"\n",
        "SaldoInsuficiente = \"(!) Saldo insuficiente!\"\n",
        "\n",
        "saldo = 100.00\n",
        "chequeEspecial = 200.00\n",
        "limiteSacar = saldo + chequeEspecial\n",
        "\n",
        "valorAserSacado = input(QualValor)\n",
        "valorDigitado = float(valorAserSacado)\n",
        "\n",
        "if(saldo-valorDigitado)>=0:\n",
        "  saldo = saldo - valorDigitado\n",
        "  saldoemuso = saldo + chequeEspecial\n",
        "  print(SaqueEfetuado %valorDigitado)\n",
        "  print(SaldoLimite %chequeEspecial)\n",
        "  print(SaldoConta %saldo)\n",
        "  print(SaldoAtual %saldoemuso)\n",
        "  \n",
        "elif((saldo-valorDigitado)<=0 and \n",
        "     (chequeEspecial-(valorDigitado-saldo))>=0):\n",
        "  saldo = saldo-valorDigitado\n",
        "  chequeEspecial = chequeEspecial - abs(saldo)\n",
        "  saldo = 0\n",
        "  saldoemuso = saldo + chequeEspecial\n",
        "  print(SaqueEfetuado %valorDigitado)\n",
        "  print(SaldoLimite %chequeEspecial)\n",
        "  print(SaldoConta %saldo)\n",
        "  print(SaldoAtual %saldoemuso)\n",
        "else:\n",
        "  saldoemuso = saldo + chequeEspecial\n",
        "  print(SaldoInsuficiente)\n",
        "  print(SaldoLimite %chequeEspecial)\n",
        "  print(SaldoConta %saldo)\n",
        "  print(SaldoAtual %saldoemuso)\n"
      ],
      "metadata": {
        "colab": {
          "base_uri": "https://localhost:8080/"
        },
        "id": "hsY-_qCxb_c-",
        "outputId": "fc61c555-c86d-4e33-b2a8-07e6a0359f4b"
      },
      "execution_count": 155,
      "outputs": [
        {
          "output_type": "stream",
          "name": "stdout",
          "text": [
            "Digite o valor a ser sacado: 300\n",
            "(-) Saque efetuado com sucesso: R$ 300.00\n",
            "(+) Saldo Cheque Especial: R$ 0.00\n",
            "(+) Saldo da Conta: R$ 0.00\n",
            "(=) Saldo Atual: R$ 0.00\n"
          ]
        }
      ]
    },
    {
      "cell_type": "code",
      "source": [
        "#Laços de repetição\n",
        "#While\n",
        "\n",
        "numero = 1\n",
        "\n",
        "while numero < 11:\n",
        "  print(\"Número %d \" % (numero))\n",
        "  numero += 1 #É o mesmo que: numero = numero + 1\n",
        "\n",
        "print(\"Processo concluído\")"
      ],
      "metadata": {
        "colab": {
          "base_uri": "https://localhost:8080/"
        },
        "id": "o3q5jgHWwBJb",
        "outputId": "c6ca2dc1-4a28-4fe6-be21-070e85c5f9cf"
      },
      "execution_count": 158,
      "outputs": [
        {
          "output_type": "stream",
          "name": "stdout",
          "text": [
            "Número 1 \n",
            "Número 2 \n",
            "Número 3 \n",
            "Número 4 \n",
            "Número 5 \n",
            "Número 6 \n",
            "Número 7 \n",
            "Número 8 \n",
            "Número 9 \n",
            "Número 10 \n",
            "Processo concluído\n"
          ]
        }
      ]
    },
    {
      "cell_type": "code",
      "source": [
        "#Exercício\n",
        "\n",
        "dadoVenda = 0\n",
        "contador = 0\n",
        "valorMedioDasVendas = 0\n",
        "valorTotalDasVendas = 0\n",
        "\n",
        "while dadoVenda>=0:\n",
        "  dadoVenda = int(input(\"Digite o valor da venda ou -1 para finalizar.\\n\"))\n",
        "  if dadoVenda>=0:\n",
        "    contador += 1\n",
        "    valorTotalDasVendas = valorTotalDasVendas + dadoVenda\n",
        "valorMedioDasVendas = valorTotalDasVendas/contador\n",
        "print(\"Total das Vendas: %d\" %(valorTotalDasVendas))\n",
        "print(\"Média das Vendas: %d\" %(valorMedioDasVendas))\n",
        "print(\"Quantidade de vendas: %d\" %(contador))\n",
        "\n",
        "\n"
      ],
      "metadata": {
        "colab": {
          "base_uri": "https://localhost:8080/"
        },
        "id": "t_CrOJaixfCo",
        "outputId": "faf86d47-83cf-45f2-a00c-1c97599ea77e"
      },
      "execution_count": 159,
      "outputs": [
        {
          "output_type": "stream",
          "name": "stdout",
          "text": [
            "Digite o valor da venda ou -1 para finalizar.\n",
            "23\n",
            "Digite o valor da venda ou -1 para finalizar.\n",
            "22\n",
            "Digite o valor da venda ou -1 para finalizar.\n",
            "-1\n",
            "Total das Vendas: 45\n",
            "Média das Vendas: 22\n",
            "Quantidade de vendas: 2\n"
          ]
        }
      ]
    },
    {
      "cell_type": "code",
      "source": [
        "#Laços de repetição\n",
        "#For x in sequencia\n",
        "\n",
        "sequencia = [10,16,12,15,14,13,11]\n",
        "\n",
        "for x in sequencia:\n",
        "  print(x)"
      ],
      "metadata": {
        "colab": {
          "base_uri": "https://localhost:8080/"
        },
        "id": "zFbaExGczRDG",
        "outputId": "91b8cda7-bb06-494f-e85d-4dc3954bdd79"
      },
      "execution_count": 161,
      "outputs": [
        {
          "output_type": "stream",
          "name": "stdout",
          "text": [
            "10\n",
            "16\n",
            "12\n",
            "15\n",
            "14\n",
            "13\n",
            "11\n"
          ]
        }
      ]
    },
    {
      "cell_type": "code",
      "source": [
        "from google.colab import drive\n",
        "drive.mount('/content/drive')"
      ],
      "metadata": {
        "id": "dojMCo5J0FsV"
      },
      "execution_count": null,
      "outputs": []
    },
    {
      "cell_type": "code",
      "source": [
        "#Laços de repetição\n",
        "#For simples com tuplas\n",
        "\n",
        "tupla = [10,\"Ônibus\",20,\"Carros\",30,\"Avião\",40,\"Moto\"]\n",
        "for x in tupla:\n",
        "  print(x)"
      ],
      "metadata": {
        "colab": {
          "base_uri": "https://localhost:8080/"
        },
        "id": "FdWmk10m4NhB",
        "outputId": "eaa65238-fdd7-472a-e323-021f77e97d78"
      },
      "execution_count": 165,
      "outputs": [
        {
          "output_type": "stream",
          "name": "stdout",
          "text": [
            "10\n",
            "Ônibus\n",
            "20\n",
            "Carros\n",
            "30\n",
            "Avião\n",
            "40\n",
            "Moto\n"
          ]
        }
      ]
    }
  ]
}